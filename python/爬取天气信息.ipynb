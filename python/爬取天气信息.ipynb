{
 "cells": [
  {
   "cell_type": "markdown",
   "metadata": {},
   "source": [
    "# Python爬取天气"
   ]
  },
  {
   "cell_type": "code",
   "execution_count": 73,
   "metadata": {
    "scrolled": true
   },
   "outputs": [
    {
     "name": "stdout",
     "output_type": "stream",
     "text": [
      "邮件发送成功\n",
      "('14日（今天）    阵雨    东风<3级    25℃15日（明天）    大雨转阵雨    东风转东风<3级    31℃ ~ '\n",
      " '25℃16日（后天）    中雨转阵雨    东风转东风<3级    31℃ ~ 25℃17日（周二）    阵雨    东风转东风<3级    33℃ '\n",
      " '~ 25℃18日（周三）    多云    东风转东北风<3级    34℃ ~ 26℃19日（周四）    多云    东北风转东北风<3级    '\n",
      " '34℃ ~ 26℃20日（周五）    多云    东北风转东北风<3级    33℃ ~ 27℃     紫外线指数:弱 '\n",
      " '辐射较弱，涂擦SPF12-15、PA+护肤品。\\n'\n",
      " '雨天室内运动下。\\n'\n",
      " '健臻·血糖指数:不易波动 天气条件不易引起血糖波动。\\n'\n",
      " '热 适合穿T恤、短薄外套等夏季服装。\\n'\n",
      " '洗车指数:不宜 有雨，雨水和泥水会弄脏爱车。\\n'\n",
      " '空气污染扩散指数:优 气象条件非常有利于空气污染物扩散。\\n')\n"
     ]
    }
   ],
   "source": [
    "#coding:utf8\n",
    "import requests\n",
    "import bs4\n",
    "import pprint\n",
    "from twilio.rest import Client\n",
    "import smtplib\n",
    "from email.mime.text import MIMEText\n",
    "from email.utils import formataddr\n",
    "\n",
    "url = \"http://www.weather.com.cn/weather/101300101.shtml\" #南宁天气网址\n",
    "\n",
    "response = requests.get(url)\n",
    "response.encoding='utf-8'\n",
    "soup = bs4.BeautifulSoup(response.text,'html.parser')\n",
    "\n",
    "def get_weather_seven(soup):\n",
    "    list1 = soup.select('ul[class=\"t clearfix\"] > li')\n",
    "    res = []\n",
    "    for i in list1:\n",
    "        weather = \"\"\n",
    "        tem_i = i.select(\"p[class='tem'] > i\")[0].string\n",
    "        if i.select(\"p[class='tem'] > span\") != []:\n",
    "            tem_span = i.select(\"p[class='tem'] > span\")[0].string\n",
    "        else:\n",
    "            tem_span = i.select(\"p[class='tem'] > span\")\n",
    "        win = i.select(\"p[class='win'] > em > span\")\n",
    "        weather = i.select(\"h1\")[0].string+\"    \"\n",
    "        weather += i.select(\"p[class='wea']\")[0].string + \"    \"\n",
    "        if win != []:\n",
    "            if len(win) == 1:\n",
    "                weather += win[0][\"title\"]\n",
    "            elif len(win) == 2:\n",
    "                weather += win[0][\"title\"] + \"转\"+win[1][\"title\"]\n",
    "        weather += \"  \"+i.select(\"p[class='win'] > i\")[0].string+\"    \"\n",
    "        if tem_span != []:\n",
    "            weather += (tem_span+\" ~ \"+tem_i)\n",
    "        elif tem_i != []:\n",
    "            weather += tem_i\n",
    "        res.append(weather)\n",
    "    return res\n",
    "\n",
    "def get_life_num(soup):\n",
    "    life_num = soup.select(\"ul[class='clearfix'] > li\")\n",
    "    res = []\n",
    "    #tmp = \"\"\n",
    "    res.append(life_num[0].select(\"em\")[0].string+\":\"+life_num[0].select(\"span\")[0].string+\" \"+life_num[0].select(\"p\")[0].string)\n",
    "    res.append(life_num[1].select(\"p\")[0].string)\n",
    "    res.append(life_num[2].select(\"em\")[0].string+\":\"+life_num[2].select(\"span\")[0].string+\" \"+life_num[2].select(\"p\")[0].string)\n",
    "    res.append(life_num[3].select(\"span\")[0].string+\" \"+life_num[3].select(\"p\")[0].string)\n",
    "    res.append(life_num[4].select(\"em\")[0].string+\":\"+life_num[4].select(\"span\")[0].string+\" \"+life_num[4].select(\"p\")[0].string)\n",
    "    res.append(life_num[5].select(\"em\")[0].string+\":\"+life_num[5].select(\"span\")[0].string+\" \"+life_num[5].select(\"p\")[0].string)\n",
    "    tmp = \"\\n\".join(res)\n",
    "    pprint.pprint(tmp)\n",
    "    return tmp\n",
    "\n",
    "res = get_weather_seven(soup)\n",
    "life = get_life_num(soup)\n",
    "body = \"\\n\".join(res) + \"     \" + life\n",
    "\n",
    "my_sender='3295468820@qq.com'    # 发件人邮箱账号\n",
    "my_pass = 'nlropspeooyvdaii'              # 发件人邮箱密码(当时申请smtp给的口令)\n",
    "my_user='1602983878@qq.com'      # 收件人邮箱账号\n",
    "def mail(body):\n",
    "    ret=True\n",
    "    try:\n",
    "        msg=MIMEText(body,'plain','utf-8')\n",
    "        msg['From']=formataddr([\"发件人昵称\",my_sender])  # 括号里的对应发件人邮箱昵称、发件人邮箱账号\n",
    "        msg['To']=formataddr([\"收件人昵称\",my_user])              # 括号里的对应收件人邮箱昵称、收件人邮箱账号\n",
    "        msg['Subject']=\"给最最最可爱的姝姝\"                # 邮件的主题，也可以说是标题\n",
    "\n",
    "        server=smtplib.SMTP_SSL(\"smtp.qq.com\", 465)  # 发件人邮箱中的SMTP服务器，端口是465\n",
    "        server.login(my_sender, my_pass)  # 括号中对应的是发件人邮箱账号、邮箱密码\n",
    "        server.sendmail(my_sender,[my_user,],msg.as_string())  # 括号中对应的是发件人邮箱账号、收件人邮箱账号、发送邮件\n",
    "        server.quit()# 关闭连接\n",
    "    except Exception:# 如果 try 中的语句没有执行，则会执行下面的 ret=False\n",
    "        ret=False\n",
    "    return ret\n",
    "\n",
    "ret=mail(body)\n",
    "if ret:\n",
    "    print(\"邮件发送成功\")\n",
    "else:\n",
    "    print(\"邮件发送失败\")\n",
    "    \n",
    "\n",
    "#send_message_to_phone(res)    \n",
    "pprint.pprint(body)"
   ]
  },
  {
   "cell_type": "code",
   "execution_count": 70,
   "metadata": {},
   "outputs": [
    {
     "name": "stdout",
     "output_type": "stream",
     "text": [
      "邮件发送成功\n"
     ]
    }
   ],
   "source": [
    "import smtplib\n",
    "from email.mime.text import MIMEText\n",
    "from email.utils import formataddr\n",
    "\n",
    "my_sender='3295468820@qq.com'    # 发件人邮箱账号\n",
    "my_pass = 'nlropspeooyvdaii'              # 发件人邮箱密码(当时申请smtp给的口令)\n",
    "my_user='3295468820@qq.com'      # 收件人邮箱账号，我这边发送给自己\n",
    "def mail():\n",
    "    ret=True\n",
    "    try:\n",
    "        msg=MIMEText('填写邮件内容','plain','utf-8')\n",
    "        msg['From']=formataddr([\"发件人昵称\",my_sender])  # 括号里的对应发件人邮箱昵称、发件人邮箱账号\n",
    "        msg['To']=formataddr([\"收件人昵称\",my_user])              # 括号里的对应收件人邮箱昵称、收件人邮箱账号\n",
    "        msg['Subject']=\"给最最最可爱的姝姝\"                # 邮件的主题，也可以说是标题\n",
    "\n",
    "        server=smtplib.SMTP_SSL(\"smtp.qq.com\", 465)  # 发件人邮箱中的SMTP服务器，端口是465\n",
    "        server.login(my_sender, my_pass)  # 括号中对应的是发件人邮箱账号、邮箱密码\n",
    "        server.sendmail(my_sender,[my_user,],msg.as_string())  # 括号中对应的是发件人邮箱账号、收件人邮箱账号、发送邮件\n",
    "        server.quit()# 关闭连接\n",
    "    except Exception:# 如果 try 中的语句没有执行，则会执行下面的 ret=False\n",
    "        ret=False\n",
    "    return ret\n",
    "\n",
    "ret=mail()\n",
    "if ret:\n",
    "    print(\"邮件发送成功\")\n",
    "else:\n",
    "    print(\"邮件发送失败\")"
   ]
  },
  {
   "cell_type": "code",
   "execution_count": null,
   "metadata": {},
   "outputs": [],
   "source": []
  }
 ],
 "metadata": {
  "kernelspec": {
   "display_name": "Python 3",
   "language": "python",
   "name": "python3"
  },
  "language_info": {
   "codemirror_mode": {
    "name": "ipython",
    "version": 3
   },
   "file_extension": ".py",
   "mimetype": "text/x-python",
   "name": "python",
   "nbconvert_exporter": "python",
   "pygments_lexer": "ipython3",
   "version": "3.5.4rc1"
  }
 },
 "nbformat": 4,
 "nbformat_minor": 2
}

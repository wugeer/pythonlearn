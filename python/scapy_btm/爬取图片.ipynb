{
 "cells": [
  {
   "cell_type": "code",
   "execution_count": 13,
   "metadata": {},
   "outputs": [
    {
     "name": "stdout",
     "output_type": "stream",
     "text": [
      "Starting geting ...\n",
      "[]\n"
     ]
    },
    {
     "data": {
      "text/plain": [
       "'\\nsoup = bs4.BeautifulSoup(res.text,\\'html.parser\\')\\npprint.pprint(soup)\\nlinkElems = soup.select(\\'div[class=\"pic-box\"] > a > img\\')\\n#pprint.pprint(linkElems)\\n\\nnumPic = 0\\nfor i in range(len(linkElems)):\\n    comUrl = linkElems[i].get(\\'data-imgurl\\')\\n    if comUrl == None:\\n        continue\\n    if not comUrl.endswith(\\'jpg\\'):\\n        continue\\n    numPic += 1\\n    print(\\'Downloading image %s ...\\' % (comUrl))\\n    res1 = requests.get(comUrl)\\n    res1.raise_for_status()\\n    imageFile = open(os.path.join(\\'Meinv\\', str(numPic)+\\'.jpg\\'),\\'wb\\')# os.path.basename(comUrl))返回comUrl末尾那段\\n   # for chunk in res1.iter_content(100000):\\n    imageFile.write(res.content)\\n    imageFile.close()\\n    res1.close()\\nprint(\\'\\nDone! You have Downloaded %s Picture!\\'%(numPic))\\n'"
      ]
     },
     "execution_count": 13,
     "metadata": {},
     "output_type": "execute_result"
    }
   ],
   "source": [
    "#coding:utf-8\n",
    "import requests, bs4, os, pprint,json\n",
    "from fake_useragent import UserAgent\n",
    "ua = UserAgent()\n",
    "print('Starting geting ...')\n",
    "headers = {'User-Agent': \"Mozilla/5.0 (X11; Linux x86_64) AppleWebKit/537.36 (KHTML, like Gecko) Chrome/63.0.3239.132 Safari/537.36\"}\n",
    "\n",
    "os.makedirs('Meinv', exist_ok = True)\n",
    "url = 'http://pic.sogou.com/pics/channel/getAllRecomPicByTag.jsp?category=%E5%A3%81%E7%BA%B8&tag=%E5%85%A8%E9%83%A8&start=0&len=15 '\n",
    "res = requests.get(url,headers = headers)\n",
    "res.encoding='utf-8'\n",
    "res.raise_for_status()\n",
    "jd = json.loads(res.text)\n",
    "pprint.pprint(jd[\"all_items\"])\n",
    "'''\n",
    "soup = bs4.BeautifulSoup(res.text,'html.parser')\n",
    "pprint.pprint(soup)\n",
    "linkElems = soup.select('div[class=\"pic-box\"] > a > img')\n",
    "#pprint.pprint(linkElems)\n",
    "\n",
    "numPic = 0\n",
    "for i in range(len(linkElems)):\n",
    "    comUrl = linkElems[i].get('data-imgurl')\n",
    "    if comUrl == None:\n",
    "        continue\n",
    "    if not comUrl.endswith('jpg'):\n",
    "        continue\n",
    "    numPic += 1\n",
    "    print('Downloading image %s ...' % (comUrl))\n",
    "    res1 = requests.get(comUrl)\n",
    "    res1.raise_for_status()\n",
    "    imageFile = open(os.path.join('Meinv', str(numPic)+'.jpg'),'wb')# os.path.basename(comUrl))返回comUrl末尾那段\n",
    "   # for chunk in res1.iter_content(100000):\n",
    "    imageFile.write(res.content)\n",
    "    imageFile.close()\n",
    "    res1.close()\n",
    "print('\\nDone! You have Downloaded %s Picture!'%(numPic))\n",
    "'''\n"
   ]
  },
  {
   "cell_type": "code",
   "execution_count": null,
   "metadata": {},
   "outputs": [],
   "source": []
  }
 ],
 "metadata": {
  "kernelspec": {
   "display_name": "Python 3",
   "language": "python",
   "name": "python3"
  },
  "language_info": {
   "codemirror_mode": {
    "name": "ipython",
    "version": 3
   },
   "file_extension": ".py",
   "mimetype": "text/x-python",
   "name": "python",
   "nbconvert_exporter": "python",
   "pygments_lexer": "ipython3",
   "version": "3.5.4rc1"
  }
 },
 "nbformat": 4,
 "nbformat_minor": 2
}

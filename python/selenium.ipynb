{
 "cells": [
  {
   "cell_type": "code",
   "execution_count": 22,
   "metadata": {},
   "outputs": [
    {
     "name": "stdout",
     "output_type": "stream",
     "text": [
      "44\n"
     ]
    }
   ],
   "source": [
    "import requests\n",
    "import bs4\n",
    "import os\n",
    "import pprint\n",
    "\n",
    "headers = {'User-Agent':\"Mozilla/5.0 (X11; Linux x86_64) AppleWebKit/537.36 (KHTML, like Gecko) Chrome/63.0.3239.132 Safari/537.36\"}\n",
    "url = \"https://cn.bing.com/images/search?q=%E8%B0%A2%E9%9C%86%E9%94%8B&qs=n&form=QBILPG&sp=-1&pq=%E8%B0%A2%E9%9C%86%E9%94%8B&sc=8-3&sk=&cvid=BB531A7969BF4349854E77CF94203002\"\n",
    "\n",
    "respons = requests.get(url,headers=headers)\n",
    "respons.encoding='utf-8'\n",
    "\n",
    "soup = bs4.BeautifulSoup(respons.text,'html.parser')\n",
    "pprint.pprint(len(soup.select(\"img\")))"
   ]
  },
  {
   "cell_type": "code",
   "execution_count": null,
   "metadata": {},
   "outputs": [],
   "source": []
  }
 ],
 "metadata": {
  "kernelspec": {
   "display_name": "Python 3",
   "language": "python",
   "name": "python3"
  },
  "language_info": {
   "codemirror_mode": {
    "name": "ipython",
    "version": 3
   },
   "file_extension": ".py",
   "mimetype": "text/x-python",
   "name": "python",
   "nbconvert_exporter": "python",
   "pygments_lexer": "ipython3",
   "version": "3.5.4rc1"
  }
 },
 "nbformat": 4,
 "nbformat_minor": 2
}
